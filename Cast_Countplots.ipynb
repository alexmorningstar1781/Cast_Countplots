{
 "cells": [
  {
   "cell_type": "code",
   "execution_count": null,
   "id": "7fe8a42a-3c70-4f76-b27a-56b841b65922",
   "metadata": {
    "tags": []
   },
   "outputs": [],
   "source": [
    "import pandas as pd\n",
    "import seaborn as sns\n",
    "import matplotlib.pyplot as plt\n",
    "\n",
    "def countplots(df, columns):\n",
    "    \"\"\"\n",
    "    Create a series of countplots for the specified columns in a DataFrame.\n",
    "    \n",
    "    This function generates univariate visualizations (countplots) for each specified column\n",
    "    in the given DataFrame, arranging them in a grid layout with 3 columns per row.\n",
    "    \n",
    "    Parameters:\n",
    "    df (pd.DataFrame): The DataFrame containing the data to be plotted.\n",
    "    columns (list of str): A list of column names for which to generate countplots.\n",
    "    \n",
    "    \"\"\"\n",
    "    # Calculate the number of rows needed given 3 columns\n",
    "    num_plots = len(columns)\n",
    "    num_columns = 3\n",
    "    num_rows = (num_plots + num_columns - 1) // num_columns  # Ceiling division\n",
    "    \n",
    "    # Create subplots with calculated rows and fixed 3 columns\n",
    "    fig, axes = plt.subplots(num_rows, num_columns, figsize=(15, 5 * num_rows))\n",
    "    \n",
    "    # Flatten axes array for easier indexing\n",
    "    axes = axes.flatten()\n",
    "    \n",
    "    # Loop through the list of column names and create a countplot for each\n",
    "    for i, column in enumerate(columns):\n",
    "        ax = sns.countplot(x=column, data=df, ax=axes[i], palette='mako')\n",
    "        ax.set_title(f'Countplot of {column}')\n",
    "        \n",
    "        # Annotate each bar with the count, positioning the numbers above the bars\n",
    "        for p in ax.patches:\n",
    "            ax.annotate(f'{int(p.get_height())}', (p.get_x() + p.get_width() / 2., p.get_height() + 0.01), \n",
    "                        ha='center', va='center', fontsize=12, color='black', xytext=(0, 5),\n",
    "                        textcoords='offset points')\n",
    "\n",
    "    # Hide any unused axes if the number of plots is not a multiple of the number of columns\n",
    "    for ax in axes[num_plots:]:\n",
    "        ax.set_visible(False)\n",
    "    \n",
    "    plt.tight_layout()\n",
    "    plt.show()\n",
    "\n",
    "# Example Data\n",
    "data = {\n",
    "    'A': ['foo', 'bar', 'foo', 'bar', 'foo'],\n",
    "    'B': ['one', 'one', 'two', 'two', 'two'],\n",
    "    'C': ['small', 'large', 'small', 'small', 'large'],\n",
    "    'D': ['low', 'high', 'low', 'high', 'high'],\n",
    "    'E': ['yes', 'no', 'yes', 'yes', 'no']\n",
    "}\n",
    "df = pd.DataFrame(data)\n",
    "\n",
    "# Example usage\n",
    "countplots(df, ['A', 'B', 'C', 'D', 'E'])\n"
   ]
  },
  {
   "cell_type": "code",
   "execution_count": null,
   "id": "b5dbbcf0-d41c-46db-a85a-e855313d8388",
   "metadata": {},
   "outputs": [],
   "source": []
  }
 ],
 "metadata": {
  "kernelspec": {
   "display_name": "Python 3 (ipykernel)",
   "language": "python",
   "name": "python3"
  },
  "language_info": {
   "codemirror_mode": {
    "name": "ipython",
    "version": 3
   },
   "file_extension": ".py",
   "mimetype": "text/x-python",
   "name": "python",
   "nbconvert_exporter": "python",
   "pygments_lexer": "ipython3",
   "version": "3.11.5"
  }
 },
 "nbformat": 4,
 "nbformat_minor": 5
}
